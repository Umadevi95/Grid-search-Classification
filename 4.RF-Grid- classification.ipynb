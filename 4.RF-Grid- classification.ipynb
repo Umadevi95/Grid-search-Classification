{
 "cells": [
  {
   "cell_type": "code",
   "execution_count": 1,
   "metadata": {},
   "outputs": [],
   "source": [
    "import pandas as pd"
   ]
  },
  {
   "cell_type": "code",
   "execution_count": 2,
   "metadata": {},
   "outputs": [],
   "source": [
    "dataset=pd.read_csv(\"Social_Network_Ads.csv\")"
   ]
  },
  {
   "cell_type": "code",
   "execution_count": 3,
   "metadata": {},
   "outputs": [
    {
     "data": {
      "text/html": [
       "<div>\n",
       "<style scoped>\n",
       "    .dataframe tbody tr th:only-of-type {\n",
       "        vertical-align: middle;\n",
       "    }\n",
       "\n",
       "    .dataframe tbody tr th {\n",
       "        vertical-align: top;\n",
       "    }\n",
       "\n",
       "    .dataframe thead th {\n",
       "        text-align: right;\n",
       "    }\n",
       "</style>\n",
       "<table border=\"1\" class=\"dataframe\">\n",
       "  <thead>\n",
       "    <tr style=\"text-align: right;\">\n",
       "      <th></th>\n",
       "      <th>User ID</th>\n",
       "      <th>Gender</th>\n",
       "      <th>Age</th>\n",
       "      <th>EstimatedSalary</th>\n",
       "      <th>Purchased</th>\n",
       "    </tr>\n",
       "  </thead>\n",
       "  <tbody>\n",
       "    <tr>\n",
       "      <td>0</td>\n",
       "      <td>15624510</td>\n",
       "      <td>Male</td>\n",
       "      <td>19</td>\n",
       "      <td>19000</td>\n",
       "      <td>0</td>\n",
       "    </tr>\n",
       "    <tr>\n",
       "      <td>1</td>\n",
       "      <td>15810944</td>\n",
       "      <td>Male</td>\n",
       "      <td>35</td>\n",
       "      <td>20000</td>\n",
       "      <td>0</td>\n",
       "    </tr>\n",
       "    <tr>\n",
       "      <td>2</td>\n",
       "      <td>15668575</td>\n",
       "      <td>Female</td>\n",
       "      <td>26</td>\n",
       "      <td>43000</td>\n",
       "      <td>0</td>\n",
       "    </tr>\n",
       "    <tr>\n",
       "      <td>3</td>\n",
       "      <td>15603246</td>\n",
       "      <td>Female</td>\n",
       "      <td>27</td>\n",
       "      <td>57000</td>\n",
       "      <td>0</td>\n",
       "    </tr>\n",
       "    <tr>\n",
       "      <td>4</td>\n",
       "      <td>15804002</td>\n",
       "      <td>Male</td>\n",
       "      <td>19</td>\n",
       "      <td>76000</td>\n",
       "      <td>0</td>\n",
       "    </tr>\n",
       "    <tr>\n",
       "      <td>...</td>\n",
       "      <td>...</td>\n",
       "      <td>...</td>\n",
       "      <td>...</td>\n",
       "      <td>...</td>\n",
       "      <td>...</td>\n",
       "    </tr>\n",
       "    <tr>\n",
       "      <td>395</td>\n",
       "      <td>15691863</td>\n",
       "      <td>Female</td>\n",
       "      <td>46</td>\n",
       "      <td>41000</td>\n",
       "      <td>1</td>\n",
       "    </tr>\n",
       "    <tr>\n",
       "      <td>396</td>\n",
       "      <td>15706071</td>\n",
       "      <td>Male</td>\n",
       "      <td>51</td>\n",
       "      <td>23000</td>\n",
       "      <td>1</td>\n",
       "    </tr>\n",
       "    <tr>\n",
       "      <td>397</td>\n",
       "      <td>15654296</td>\n",
       "      <td>Female</td>\n",
       "      <td>50</td>\n",
       "      <td>20000</td>\n",
       "      <td>1</td>\n",
       "    </tr>\n",
       "    <tr>\n",
       "      <td>398</td>\n",
       "      <td>15755018</td>\n",
       "      <td>Male</td>\n",
       "      <td>36</td>\n",
       "      <td>33000</td>\n",
       "      <td>0</td>\n",
       "    </tr>\n",
       "    <tr>\n",
       "      <td>399</td>\n",
       "      <td>15594041</td>\n",
       "      <td>Female</td>\n",
       "      <td>49</td>\n",
       "      <td>36000</td>\n",
       "      <td>1</td>\n",
       "    </tr>\n",
       "  </tbody>\n",
       "</table>\n",
       "<p>400 rows × 5 columns</p>\n",
       "</div>"
      ],
      "text/plain": [
       "      User ID  Gender  Age  EstimatedSalary  Purchased\n",
       "0    15624510    Male   19            19000          0\n",
       "1    15810944    Male   35            20000          0\n",
       "2    15668575  Female   26            43000          0\n",
       "3    15603246  Female   27            57000          0\n",
       "4    15804002    Male   19            76000          0\n",
       "..        ...     ...  ...              ...        ...\n",
       "395  15691863  Female   46            41000          1\n",
       "396  15706071    Male   51            23000          1\n",
       "397  15654296  Female   50            20000          1\n",
       "398  15755018    Male   36            33000          0\n",
       "399  15594041  Female   49            36000          1\n",
       "\n",
       "[400 rows x 5 columns]"
      ]
     },
     "execution_count": 3,
     "metadata": {},
     "output_type": "execute_result"
    }
   ],
   "source": [
    "dataset"
   ]
  },
  {
   "cell_type": "code",
   "execution_count": 4,
   "metadata": {},
   "outputs": [],
   "source": [
    "dataset=pd.get_dummies(dataset,drop_first=True)"
   ]
  },
  {
   "cell_type": "code",
   "execution_count": 5,
   "metadata": {},
   "outputs": [
    {
     "data": {
      "text/html": [
       "<div>\n",
       "<style scoped>\n",
       "    .dataframe tbody tr th:only-of-type {\n",
       "        vertical-align: middle;\n",
       "    }\n",
       "\n",
       "    .dataframe tbody tr th {\n",
       "        vertical-align: top;\n",
       "    }\n",
       "\n",
       "    .dataframe thead th {\n",
       "        text-align: right;\n",
       "    }\n",
       "</style>\n",
       "<table border=\"1\" class=\"dataframe\">\n",
       "  <thead>\n",
       "    <tr style=\"text-align: right;\">\n",
       "      <th></th>\n",
       "      <th>User ID</th>\n",
       "      <th>Age</th>\n",
       "      <th>EstimatedSalary</th>\n",
       "      <th>Purchased</th>\n",
       "      <th>Gender_Male</th>\n",
       "    </tr>\n",
       "  </thead>\n",
       "  <tbody>\n",
       "    <tr>\n",
       "      <td>0</td>\n",
       "      <td>15624510</td>\n",
       "      <td>19</td>\n",
       "      <td>19000</td>\n",
       "      <td>0</td>\n",
       "      <td>1</td>\n",
       "    </tr>\n",
       "    <tr>\n",
       "      <td>1</td>\n",
       "      <td>15810944</td>\n",
       "      <td>35</td>\n",
       "      <td>20000</td>\n",
       "      <td>0</td>\n",
       "      <td>1</td>\n",
       "    </tr>\n",
       "    <tr>\n",
       "      <td>2</td>\n",
       "      <td>15668575</td>\n",
       "      <td>26</td>\n",
       "      <td>43000</td>\n",
       "      <td>0</td>\n",
       "      <td>0</td>\n",
       "    </tr>\n",
       "    <tr>\n",
       "      <td>3</td>\n",
       "      <td>15603246</td>\n",
       "      <td>27</td>\n",
       "      <td>57000</td>\n",
       "      <td>0</td>\n",
       "      <td>0</td>\n",
       "    </tr>\n",
       "    <tr>\n",
       "      <td>4</td>\n",
       "      <td>15804002</td>\n",
       "      <td>19</td>\n",
       "      <td>76000</td>\n",
       "      <td>0</td>\n",
       "      <td>1</td>\n",
       "    </tr>\n",
       "    <tr>\n",
       "      <td>...</td>\n",
       "      <td>...</td>\n",
       "      <td>...</td>\n",
       "      <td>...</td>\n",
       "      <td>...</td>\n",
       "      <td>...</td>\n",
       "    </tr>\n",
       "    <tr>\n",
       "      <td>395</td>\n",
       "      <td>15691863</td>\n",
       "      <td>46</td>\n",
       "      <td>41000</td>\n",
       "      <td>1</td>\n",
       "      <td>0</td>\n",
       "    </tr>\n",
       "    <tr>\n",
       "      <td>396</td>\n",
       "      <td>15706071</td>\n",
       "      <td>51</td>\n",
       "      <td>23000</td>\n",
       "      <td>1</td>\n",
       "      <td>1</td>\n",
       "    </tr>\n",
       "    <tr>\n",
       "      <td>397</td>\n",
       "      <td>15654296</td>\n",
       "      <td>50</td>\n",
       "      <td>20000</td>\n",
       "      <td>1</td>\n",
       "      <td>0</td>\n",
       "    </tr>\n",
       "    <tr>\n",
       "      <td>398</td>\n",
       "      <td>15755018</td>\n",
       "      <td>36</td>\n",
       "      <td>33000</td>\n",
       "      <td>0</td>\n",
       "      <td>1</td>\n",
       "    </tr>\n",
       "    <tr>\n",
       "      <td>399</td>\n",
       "      <td>15594041</td>\n",
       "      <td>49</td>\n",
       "      <td>36000</td>\n",
       "      <td>1</td>\n",
       "      <td>0</td>\n",
       "    </tr>\n",
       "  </tbody>\n",
       "</table>\n",
       "<p>400 rows × 5 columns</p>\n",
       "</div>"
      ],
      "text/plain": [
       "      User ID  Age  EstimatedSalary  Purchased  Gender_Male\n",
       "0    15624510   19            19000          0            1\n",
       "1    15810944   35            20000          0            1\n",
       "2    15668575   26            43000          0            0\n",
       "3    15603246   27            57000          0            0\n",
       "4    15804002   19            76000          0            1\n",
       "..        ...  ...              ...        ...          ...\n",
       "395  15691863   46            41000          1            0\n",
       "396  15706071   51            23000          1            1\n",
       "397  15654296   50            20000          1            0\n",
       "398  15755018   36            33000          0            1\n",
       "399  15594041   49            36000          1            0\n",
       "\n",
       "[400 rows x 5 columns]"
      ]
     },
     "execution_count": 5,
     "metadata": {},
     "output_type": "execute_result"
    }
   ],
   "source": [
    "dataset"
   ]
  },
  {
   "cell_type": "code",
   "execution_count": 6,
   "metadata": {},
   "outputs": [
    {
     "data": {
      "text/plain": [
       "0    257\n",
       "1    143\n",
       "Name: Purchased, dtype: int64"
      ]
     },
     "execution_count": 6,
     "metadata": {},
     "output_type": "execute_result"
    }
   ],
   "source": [
    "dataset[\"Purchased\"].value_counts()\n",
    "#refer how many class classified\n",
    "#to find balanced or imbalanced\n",
    "#unique entry &counts---->(0-143,1-143)->balanced\n",
    "#(0-257,1-143)->imbalanced"
   ]
  },
  {
   "cell_type": "code",
   "execution_count": 7,
   "metadata": {},
   "outputs": [],
   "source": [
    "indep=dataset[[\"Age\",\"EstimatedSalary\",\"Gender_Male\"]]\n",
    "dep=dataset[\"Purchased\"]"
   ]
  },
  {
   "cell_type": "code",
   "execution_count": 8,
   "metadata": {},
   "outputs": [
    {
     "data": {
      "text/plain": [
       "(400, 3)"
      ]
     },
     "execution_count": 8,
     "metadata": {},
     "output_type": "execute_result"
    }
   ],
   "source": [
    "indep.shape#400-length ,3-i/p column"
   ]
  },
  {
   "cell_type": "code",
   "execution_count": 9,
   "metadata": {},
   "outputs": [
    {
     "data": {
      "text/plain": [
       "0      0\n",
       "1      0\n",
       "2      0\n",
       "3      0\n",
       "4      0\n",
       "      ..\n",
       "395    1\n",
       "396    1\n",
       "397    1\n",
       "398    0\n",
       "399    1\n",
       "Name: Purchased, Length: 400, dtype: int64"
      ]
     },
     "execution_count": 9,
     "metadata": {},
     "output_type": "execute_result"
    }
   ],
   "source": [
    "dep"
   ]
  },
  {
   "cell_type": "code",
   "execution_count": 10,
   "metadata": {},
   "outputs": [],
   "source": [
    "#split into training & test set\n",
    "from sklearn.model_selection import train_test_split\n",
    "x_train,x_test,y_train,y_test=train_test_split(indep,dep,test_size=0.30,random_state=0)\n",
    "\n"
   ]
  },
  {
   "cell_type": "code",
   "execution_count": 11,
   "metadata": {},
   "outputs": [],
   "source": [
    "from sklearn.preprocessing import StandardScaler\n",
    "sc=StandardScaler()\n",
    "x_train=sc.fit_transform(x_train)\n",
    "x_test=sc.transform(x_test)"
   ]
  },
  {
   "cell_type": "code",
   "execution_count": null,
   "metadata": {},
   "outputs": [],
   "source": []
  },
  {
   "cell_type": "code",
   "execution_count": 12,
   "metadata": {
    "scrolled": true
   },
   "outputs": [
    {
     "name": "stdout",
     "output_type": "stream",
     "text": [
      "Fitting 5 folds for each of 12 candidates, totalling 60 fits\n",
      "[CV 1/5] END criterion=gini, max_features=auto, n_estimators=10;, score=0.874 total time=   0.0s\n",
      "[CV 2/5] END criterion=gini, max_features=auto, n_estimators=10;, score=0.819 total time=   0.0s\n",
      "[CV 3/5] END criterion=gini, max_features=auto, n_estimators=10;, score=0.823 total time=   0.0s\n",
      "[CV 4/5] END criterion=gini, max_features=auto, n_estimators=10;, score=0.929 total time=   0.0s\n",
      "[CV 5/5] END criterion=gini, max_features=auto, n_estimators=10;, score=0.890 total time=   0.0s\n",
      "[CV 1/5] END criterion=gini, max_features=auto, n_estimators=100;, score=0.874 total time=   0.0s\n",
      "[CV 2/5] END criterion=gini, max_features=auto, n_estimators=100;, score=0.840 total time=   0.0s\n",
      "[CV 3/5] END criterion=gini, max_features=auto, n_estimators=100;, score=0.841 total time=   0.0s\n",
      "[CV 4/5] END criterion=gini, max_features=auto, n_estimators=100;, score=0.929 total time=   0.0s\n",
      "[CV 5/5] END criterion=gini, max_features=auto, n_estimators=100;, score=0.946 total time=   0.0s\n",
      "[CV 1/5] END criterion=gini, max_features=sqrt, n_estimators=10;, score=0.855 total time=   0.0s\n",
      "[CV 2/5] END criterion=gini, max_features=sqrt, n_estimators=10;, score=0.819 total time=   0.0s\n",
      "[CV 3/5] END criterion=gini, max_features=sqrt, n_estimators=10;, score=0.824 total time=   0.0s\n",
      "[CV 4/5] END criterion=gini, max_features=sqrt, n_estimators=10;, score=0.911 total time=   0.0s\n",
      "[CV 5/5] END criterion=gini, max_features=sqrt, n_estimators=10;, score=0.871 total time=   0.0s\n",
      "[CV 1/5] END criterion=gini, max_features=sqrt, n_estimators=100;, score=0.874 total time=   0.0s\n",
      "[CV 2/5] END criterion=gini, max_features=sqrt, n_estimators=100;, score=0.840 total time=   0.0s\n",
      "[CV 3/5] END criterion=gini, max_features=sqrt, n_estimators=100;, score=0.859 total time=   0.0s\n",
      "[CV 4/5] END criterion=gini, max_features=sqrt, n_estimators=100;, score=0.911 total time=   0.0s\n",
      "[CV 5/5] END criterion=gini, max_features=sqrt, n_estimators=100;, score=0.964 total time=   0.0s\n",
      "[CV 1/5] END criterion=gini, max_features=log2, n_estimators=10;, score=0.836 total time=   0.0s\n",
      "[CV 2/5] END criterion=gini, max_features=log2, n_estimators=10;, score=0.796 total time=   0.0s\n",
      "[CV 3/5] END criterion=gini, max_features=log2, n_estimators=10;, score=0.859 total time=   0.0s\n",
      "[CV 4/5] END criterion=gini, max_features=log2, n_estimators=10;, score=0.876 total time=   0.0s\n",
      "[CV 5/5] END criterion=gini, max_features=log2, n_estimators=10;, score=0.909 total time=   0.0s\n",
      "[CV 1/5] END criterion=gini, max_features=log2, n_estimators=100;, score=0.893 total time=   0.0s\n",
      "[CV 2/5] END criterion=gini, max_features=log2, n_estimators=100;, score=0.821 total time=   0.0s\n",
      "[CV 3/5] END criterion=gini, max_features=log2, n_estimators=100;, score=0.841 total time=   0.0s\n",
      "[CV 4/5] END criterion=gini, max_features=log2, n_estimators=100;, score=0.911 total time=   0.0s\n",
      "[CV 5/5] END criterion=gini, max_features=log2, n_estimators=100;, score=0.928 total time=   0.0s\n",
      "[CV 1/5] END criterion=entropy, max_features=auto, n_estimators=10;, score=0.874 total time=   0.0s\n",
      "[CV 2/5] END criterion=entropy, max_features=auto, n_estimators=10;, score=0.840 total time=   0.0s\n",
      "[CV 3/5] END criterion=entropy, max_features=auto, n_estimators=10;, score=0.841 total time=   0.0s\n",
      "[CV 4/5] END criterion=entropy, max_features=auto, n_estimators=10;, score=0.859 total time=   0.0s\n",
      "[CV 5/5] END criterion=entropy, max_features=auto, n_estimators=10;, score=0.908 total time=   0.0s\n",
      "[CV 1/5] END criterion=entropy, max_features=auto, n_estimators=100;, score=0.874 total time=   0.0s\n",
      "[CV 2/5] END criterion=entropy, max_features=auto, n_estimators=100;, score=0.857 total time=   0.0s\n",
      "[CV 3/5] END criterion=entropy, max_features=auto, n_estimators=100;, score=0.823 total time=   0.0s\n",
      "[CV 4/5] END criterion=entropy, max_features=auto, n_estimators=100;, score=0.911 total time=   0.0s\n",
      "[CV 5/5] END criterion=entropy, max_features=auto, n_estimators=100;, score=0.927 total time=   0.0s\n",
      "[CV 1/5] END criterion=entropy, max_features=sqrt, n_estimators=10;, score=0.874 total time=   0.0s\n",
      "[CV 2/5] END criterion=entropy, max_features=sqrt, n_estimators=10;, score=0.800 total time=   0.0s\n",
      "[CV 3/5] END criterion=entropy, max_features=sqrt, n_estimators=10;, score=0.821 total time=   0.0s\n",
      "[CV 4/5] END criterion=entropy, max_features=sqrt, n_estimators=10;, score=0.893 total time=   0.0s\n",
      "[CV 5/5] END criterion=entropy, max_features=sqrt, n_estimators=10;, score=0.964 total time=   0.0s\n",
      "[CV 1/5] END criterion=entropy, max_features=sqrt, n_estimators=100;, score=0.874 total time=   0.0s\n",
      "[CV 2/5] END criterion=entropy, max_features=sqrt, n_estimators=100;, score=0.876 total time=   0.0s\n",
      "[CV 3/5] END criterion=entropy, max_features=sqrt, n_estimators=100;, score=0.859 total time=   0.0s\n",
      "[CV 4/5] END criterion=entropy, max_features=sqrt, n_estimators=100;, score=0.911 total time=   0.0s\n",
      "[CV 5/5] END criterion=entropy, max_features=sqrt, n_estimators=100;, score=0.928 total time=   0.0s\n",
      "[CV 1/5] END criterion=entropy, max_features=log2, n_estimators=10;, score=0.874 total time=   0.0s\n",
      "[CV 2/5] END criterion=entropy, max_features=log2, n_estimators=10;, score=0.859 total time=   0.0s\n",
      "[CV 3/5] END criterion=entropy, max_features=log2, n_estimators=10;, score=0.840 total time=   0.0s\n",
      "[CV 4/5] END criterion=entropy, max_features=log2, n_estimators=10;, score=0.856 total time=   0.0s\n",
      "[CV 5/5] END criterion=entropy, max_features=log2, n_estimators=10;, score=0.946 total time=   0.0s\n",
      "[CV 1/5] END criterion=entropy, max_features=log2, n_estimators=100;, score=0.874 total time=   0.0s\n",
      "[CV 2/5] END criterion=entropy, max_features=log2, n_estimators=100;, score=0.876 total time=   0.0s\n",
      "[CV 3/5] END criterion=entropy, max_features=log2, n_estimators=100;, score=0.841 total time=   0.0s\n",
      "[CV 4/5] END criterion=entropy, max_features=log2, n_estimators=100;, score=0.911 total time=   0.0s\n",
      "[CV 5/5] END criterion=entropy, max_features=log2, n_estimators=100;, score=0.945 total time=   0.0s\n"
     ]
    },
    {
     "data": {
      "text/plain": [
       "GridSearchCV(estimator=RandomForestClassifier(), n_jobs=1,\n",
       "             param_grid={'criterion': ['gini', 'entropy'],\n",
       "                         'max_features': ['auto', 'sqrt', 'log2'],\n",
       "                         'n_estimators': [10, 100]},\n",
       "             scoring='f1_weighted', verbose=3)"
      ]
     },
     "execution_count": 12,
     "metadata": {},
     "output_type": "execute_result"
    }
   ],
   "source": [
    "#replace regression to classifier for classification\n",
    "from sklearn.model_selection import GridSearchCV\n",
    "from sklearn.ensemble import RandomForestClassifier\n",
    "param_grid={'criterion':['gini','entropy'],'max_features': ['auto','sqrt','log2'],'n_estimators':[10,100]}\n",
    "grid=GridSearchCV(RandomForestClassifier(),param_grid,refit=True,verbose=3,n_jobs=1,scoring='f1_weighted')\n",
    "#f1_weighted suitable for all balanced &imbalance including precision,recall)\n",
    "#fitting model for grid search\n",
    "grid.fit(x_train,y_train)\n"
   ]
  },
  {
   "cell_type": "code",
   "execution_count": 13,
   "metadata": {},
   "outputs": [],
   "source": [
    "#print best parameter after tuning\n",
    "#print(grid.best_params_)\n",
    "\n",
    "re = grid.cv_results_\n",
    "\n",
    "# Making predictions on the test data using the best estimator found by GridSearchCV\n",
    "\n"
   ]
  },
  {
   "cell_type": "code",
   "execution_count": 14,
   "metadata": {},
   "outputs": [],
   "source": [
    "\n",
    "grid_predictions=grid.predict(x_test)"
   ]
  },
  {
   "cell_type": "code",
   "execution_count": 15,
   "metadata": {},
   "outputs": [
    {
     "name": "stdout",
     "output_type": "stream",
     "text": [
      "f1_macro value for best parameter{'criterion': 'gini', 'max_features': 'sqrt', 'n_estimators': 100}: 0.9085936101092268\n"
     ]
    }
   ],
   "source": [
    "from sklearn.metrics import f1_score\n",
    "f1_macro=f1_score(y_test,grid_predictions,average='weighted')\n",
    "print(\"f1_macro value for best parameter{}:\".format(grid.best_params_),f1_macro)#optional"
   ]
  },
  {
   "cell_type": "code",
   "execution_count": 16,
   "metadata": {},
   "outputs": [],
   "source": [
    "from sklearn.metrics import confusion_matrix\n",
    "cm=confusion_matrix(y_test,grid_predictions)"
   ]
  },
  {
   "cell_type": "code",
   "execution_count": 17,
   "metadata": {},
   "outputs": [
    {
     "name": "stdout",
     "output_type": "stream",
     "text": [
      "[[73  6]\n",
      " [ 5 36]]\n"
     ]
    }
   ],
   "source": [
    "# 79,0 correct diagonal,41,0 wrong diagonal\n",
    "#type1 error should low\n",
    "print(cm)"
   ]
  },
  {
   "cell_type": "code",
   "execution_count": 18,
   "metadata": {},
   "outputs": [],
   "source": [
    "from sklearn.metrics import classification_report\n",
    "clf_report=classification_report(y_test,grid_predictions)"
   ]
  },
  {
   "cell_type": "code",
   "execution_count": 19,
   "metadata": {
    "scrolled": true
   },
   "outputs": [
    {
     "name": "stdout",
     "output_type": "stream",
     "text": [
      "              precision    recall  f1-score   support\n",
      "\n",
      "           0       0.94      0.92      0.93        79\n",
      "           1       0.86      0.88      0.87        41\n",
      "\n",
      "    accuracy                           0.91       120\n",
      "   macro avg       0.90      0.90      0.90       120\n",
      "weighted avg       0.91      0.91      0.91       120\n",
      "\n"
     ]
    }
   ],
   "source": [
    "#overall performance(accuracy)=0.89\n",
    "print(clf_report)"
   ]
  },
  {
   "cell_type": "code",
   "execution_count": 20,
   "metadata": {},
   "outputs": [
    {
     "data": {
      "text/plain": [
       "0.9646495832046929"
      ]
     },
     "execution_count": 20,
     "metadata": {},
     "output_type": "execute_result"
    }
   ],
   "source": [
    "from sklearn.metrics import roc_auc_score\n",
    "roc_auc_score(y_test,grid.predict_proba(x_test)[:,1])#receiver operating chareteristics area under curve(roc_auc)"
   ]
  },
  {
   "cell_type": "code",
   "execution_count": 21,
   "metadata": {},
   "outputs": [],
   "source": [
    "table = pd.DataFrame.from_dict(re)"
   ]
  },
  {
   "cell_type": "code",
   "execution_count": 22,
   "metadata": {},
   "outputs": [
    {
     "data": {
      "text/html": [
       "<div>\n",
       "<style scoped>\n",
       "    .dataframe tbody tr th:only-of-type {\n",
       "        vertical-align: middle;\n",
       "    }\n",
       "\n",
       "    .dataframe tbody tr th {\n",
       "        vertical-align: top;\n",
       "    }\n",
       "\n",
       "    .dataframe thead th {\n",
       "        text-align: right;\n",
       "    }\n",
       "</style>\n",
       "<table border=\"1\" class=\"dataframe\">\n",
       "  <thead>\n",
       "    <tr style=\"text-align: right;\">\n",
       "      <th></th>\n",
       "      <th>mean_fit_time</th>\n",
       "      <th>std_fit_time</th>\n",
       "      <th>mean_score_time</th>\n",
       "      <th>std_score_time</th>\n",
       "      <th>param_criterion</th>\n",
       "      <th>param_max_features</th>\n",
       "      <th>param_n_estimators</th>\n",
       "      <th>params</th>\n",
       "      <th>split0_test_score</th>\n",
       "      <th>split1_test_score</th>\n",
       "      <th>split2_test_score</th>\n",
       "      <th>split3_test_score</th>\n",
       "      <th>split4_test_score</th>\n",
       "      <th>mean_test_score</th>\n",
       "      <th>std_test_score</th>\n",
       "      <th>rank_test_score</th>\n",
       "    </tr>\n",
       "  </thead>\n",
       "  <tbody>\n",
       "    <tr>\n",
       "      <td>0</td>\n",
       "      <td>0.008782</td>\n",
       "      <td>0.001972</td>\n",
       "      <td>0.002976</td>\n",
       "      <td>0.003661</td>\n",
       "      <td>gini</td>\n",
       "      <td>auto</td>\n",
       "      <td>10</td>\n",
       "      <td>{'criterion': 'gini', 'max_features': 'auto', ...</td>\n",
       "      <td>0.874254</td>\n",
       "      <td>0.819142</td>\n",
       "      <td>0.823129</td>\n",
       "      <td>0.928571</td>\n",
       "      <td>0.890114</td>\n",
       "      <td>0.867042</td>\n",
       "      <td>0.041456</td>\n",
       "      <td>9</td>\n",
       "    </tr>\n",
       "    <tr>\n",
       "      <td>1</td>\n",
       "      <td>0.085866</td>\n",
       "      <td>0.016701</td>\n",
       "      <td>0.010417</td>\n",
       "      <td>0.006018</td>\n",
       "      <td>gini</td>\n",
       "      <td>auto</td>\n",
       "      <td>100</td>\n",
       "      <td>{'criterion': 'gini', 'max_features': 'auto', ...</td>\n",
       "      <td>0.874254</td>\n",
       "      <td>0.840114</td>\n",
       "      <td>0.841398</td>\n",
       "      <td>0.929144</td>\n",
       "      <td>0.946153</td>\n",
       "      <td>0.886213</td>\n",
       "      <td>0.044074</td>\n",
       "      <td>4</td>\n",
       "    </tr>\n",
       "    <tr>\n",
       "      <td>2</td>\n",
       "      <td>0.009949</td>\n",
       "      <td>0.004959</td>\n",
       "      <td>0.000106</td>\n",
       "      <td>0.000212</td>\n",
       "      <td>gini</td>\n",
       "      <td>sqrt</td>\n",
       "      <td>10</td>\n",
       "      <td>{'criterion': 'gini', 'max_features': 'sqrt', ...</td>\n",
       "      <td>0.855314</td>\n",
       "      <td>0.819142</td>\n",
       "      <td>0.824293</td>\n",
       "      <td>0.911105</td>\n",
       "      <td>0.870721</td>\n",
       "      <td>0.856115</td>\n",
       "      <td>0.033519</td>\n",
       "      <td>11</td>\n",
       "    </tr>\n",
       "    <tr>\n",
       "      <td>3</td>\n",
       "      <td>0.091023</td>\n",
       "      <td>0.013088</td>\n",
       "      <td>0.013559</td>\n",
       "      <td>0.002856</td>\n",
       "      <td>gini</td>\n",
       "      <td>sqrt</td>\n",
       "      <td>100</td>\n",
       "      <td>{'criterion': 'gini', 'max_features': 'sqrt', ...</td>\n",
       "      <td>0.874254</td>\n",
       "      <td>0.840114</td>\n",
       "      <td>0.859435</td>\n",
       "      <td>0.911105</td>\n",
       "      <td>0.964286</td>\n",
       "      <td>0.889839</td>\n",
       "      <td>0.043896</td>\n",
       "      <td>1</td>\n",
       "    </tr>\n",
       "    <tr>\n",
       "      <td>4</td>\n",
       "      <td>0.008055</td>\n",
       "      <td>0.004428</td>\n",
       "      <td>0.004850</td>\n",
       "      <td>0.005101</td>\n",
       "      <td>gini</td>\n",
       "      <td>log2</td>\n",
       "      <td>10</td>\n",
       "      <td>{'criterion': 'gini', 'max_features': 'log2', ...</td>\n",
       "      <td>0.835985</td>\n",
       "      <td>0.795918</td>\n",
       "      <td>0.859435</td>\n",
       "      <td>0.876368</td>\n",
       "      <td>0.909115</td>\n",
       "      <td>0.855364</td>\n",
       "      <td>0.038095</td>\n",
       "      <td>12</td>\n",
       "    </tr>\n",
       "    <tr>\n",
       "      <td>5</td>\n",
       "      <td>0.072326</td>\n",
       "      <td>0.006021</td>\n",
       "      <td>0.014251</td>\n",
       "      <td>0.005859</td>\n",
       "      <td>gini</td>\n",
       "      <td>log2</td>\n",
       "      <td>100</td>\n",
       "      <td>{'criterion': 'gini', 'max_features': 'log2', ...</td>\n",
       "      <td>0.892857</td>\n",
       "      <td>0.821429</td>\n",
       "      <td>0.841398</td>\n",
       "      <td>0.911105</td>\n",
       "      <td>0.927778</td>\n",
       "      <td>0.878913</td>\n",
       "      <td>0.040818</td>\n",
       "      <td>5</td>\n",
       "    </tr>\n",
       "    <tr>\n",
       "      <td>6</td>\n",
       "      <td>0.008118</td>\n",
       "      <td>0.004996</td>\n",
       "      <td>0.003744</td>\n",
       "      <td>0.003571</td>\n",
       "      <td>entropy</td>\n",
       "      <td>auto</td>\n",
       "      <td>10</td>\n",
       "      <td>{'criterion': 'entropy', 'max_features': 'auto...</td>\n",
       "      <td>0.874254</td>\n",
       "      <td>0.840114</td>\n",
       "      <td>0.841398</td>\n",
       "      <td>0.859025</td>\n",
       "      <td>0.907658</td>\n",
       "      <td>0.864490</td>\n",
       "      <td>0.024964</td>\n",
       "      <td>10</td>\n",
       "    </tr>\n",
       "    <tr>\n",
       "      <td>7</td>\n",
       "      <td>0.086917</td>\n",
       "      <td>0.009157</td>\n",
       "      <td>0.014319</td>\n",
       "      <td>0.004862</td>\n",
       "      <td>entropy</td>\n",
       "      <td>auto</td>\n",
       "      <td>100</td>\n",
       "      <td>{'criterion': 'entropy', 'max_features': 'auto...</td>\n",
       "      <td>0.874254</td>\n",
       "      <td>0.857143</td>\n",
       "      <td>0.823129</td>\n",
       "      <td>0.911105</td>\n",
       "      <td>0.926743</td>\n",
       "      <td>0.878475</td>\n",
       "      <td>0.037230</td>\n",
       "      <td>6</td>\n",
       "    </tr>\n",
       "    <tr>\n",
       "      <td>8</td>\n",
       "      <td>0.007952</td>\n",
       "      <td>0.004629</td>\n",
       "      <td>0.004084</td>\n",
       "      <td>0.003748</td>\n",
       "      <td>entropy</td>\n",
       "      <td>sqrt</td>\n",
       "      <td>10</td>\n",
       "      <td>{'criterion': 'entropy', 'max_features': 'sqrt...</td>\n",
       "      <td>0.874254</td>\n",
       "      <td>0.799537</td>\n",
       "      <td>0.821429</td>\n",
       "      <td>0.892857</td>\n",
       "      <td>0.963889</td>\n",
       "      <td>0.870393</td>\n",
       "      <td>0.057757</td>\n",
       "      <td>8</td>\n",
       "    </tr>\n",
       "    <tr>\n",
       "      <td>9</td>\n",
       "      <td>0.084560</td>\n",
       "      <td>0.009008</td>\n",
       "      <td>0.012538</td>\n",
       "      <td>0.003067</td>\n",
       "      <td>entropy</td>\n",
       "      <td>sqrt</td>\n",
       "      <td>100</td>\n",
       "      <td>{'criterion': 'entropy', 'max_features': 'sqrt...</td>\n",
       "      <td>0.874254</td>\n",
       "      <td>0.875644</td>\n",
       "      <td>0.859435</td>\n",
       "      <td>0.911105</td>\n",
       "      <td>0.927778</td>\n",
       "      <td>0.889643</td>\n",
       "      <td>0.025535</td>\n",
       "      <td>2</td>\n",
       "    </tr>\n",
       "    <tr>\n",
       "      <td>10</td>\n",
       "      <td>0.011337</td>\n",
       "      <td>0.002747</td>\n",
       "      <td>0.002351</td>\n",
       "      <td>0.002266</td>\n",
       "      <td>entropy</td>\n",
       "      <td>log2</td>\n",
       "      <td>10</td>\n",
       "      <td>{'criterion': 'entropy', 'max_features': 'log2...</td>\n",
       "      <td>0.874254</td>\n",
       "      <td>0.859435</td>\n",
       "      <td>0.840114</td>\n",
       "      <td>0.855556</td>\n",
       "      <td>0.946153</td>\n",
       "      <td>0.875102</td>\n",
       "      <td>0.037150</td>\n",
       "      <td>7</td>\n",
       "    </tr>\n",
       "    <tr>\n",
       "      <td>11</td>\n",
       "      <td>0.089634</td>\n",
       "      <td>0.005284</td>\n",
       "      <td>0.009577</td>\n",
       "      <td>0.004607</td>\n",
       "      <td>entropy</td>\n",
       "      <td>log2</td>\n",
       "      <td>100</td>\n",
       "      <td>{'criterion': 'entropy', 'max_features': 'log2...</td>\n",
       "      <td>0.874254</td>\n",
       "      <td>0.875644</td>\n",
       "      <td>0.841398</td>\n",
       "      <td>0.911105</td>\n",
       "      <td>0.945469</td>\n",
       "      <td>0.889574</td>\n",
       "      <td>0.035602</td>\n",
       "      <td>3</td>\n",
       "    </tr>\n",
       "  </tbody>\n",
       "</table>\n",
       "</div>"
      ],
      "text/plain": [
       "    mean_fit_time  std_fit_time  mean_score_time  std_score_time  \\\n",
       "0        0.008782      0.001972         0.002976        0.003661   \n",
       "1        0.085866      0.016701         0.010417        0.006018   \n",
       "2        0.009949      0.004959         0.000106        0.000212   \n",
       "3        0.091023      0.013088         0.013559        0.002856   \n",
       "4        0.008055      0.004428         0.004850        0.005101   \n",
       "5        0.072326      0.006021         0.014251        0.005859   \n",
       "6        0.008118      0.004996         0.003744        0.003571   \n",
       "7        0.086917      0.009157         0.014319        0.004862   \n",
       "8        0.007952      0.004629         0.004084        0.003748   \n",
       "9        0.084560      0.009008         0.012538        0.003067   \n",
       "10       0.011337      0.002747         0.002351        0.002266   \n",
       "11       0.089634      0.005284         0.009577        0.004607   \n",
       "\n",
       "   param_criterion param_max_features param_n_estimators  \\\n",
       "0             gini               auto                 10   \n",
       "1             gini               auto                100   \n",
       "2             gini               sqrt                 10   \n",
       "3             gini               sqrt                100   \n",
       "4             gini               log2                 10   \n",
       "5             gini               log2                100   \n",
       "6          entropy               auto                 10   \n",
       "7          entropy               auto                100   \n",
       "8          entropy               sqrt                 10   \n",
       "9          entropy               sqrt                100   \n",
       "10         entropy               log2                 10   \n",
       "11         entropy               log2                100   \n",
       "\n",
       "                                               params  split0_test_score  \\\n",
       "0   {'criterion': 'gini', 'max_features': 'auto', ...           0.874254   \n",
       "1   {'criterion': 'gini', 'max_features': 'auto', ...           0.874254   \n",
       "2   {'criterion': 'gini', 'max_features': 'sqrt', ...           0.855314   \n",
       "3   {'criterion': 'gini', 'max_features': 'sqrt', ...           0.874254   \n",
       "4   {'criterion': 'gini', 'max_features': 'log2', ...           0.835985   \n",
       "5   {'criterion': 'gini', 'max_features': 'log2', ...           0.892857   \n",
       "6   {'criterion': 'entropy', 'max_features': 'auto...           0.874254   \n",
       "7   {'criterion': 'entropy', 'max_features': 'auto...           0.874254   \n",
       "8   {'criterion': 'entropy', 'max_features': 'sqrt...           0.874254   \n",
       "9   {'criterion': 'entropy', 'max_features': 'sqrt...           0.874254   \n",
       "10  {'criterion': 'entropy', 'max_features': 'log2...           0.874254   \n",
       "11  {'criterion': 'entropy', 'max_features': 'log2...           0.874254   \n",
       "\n",
       "    split1_test_score  split2_test_score  split3_test_score  \\\n",
       "0            0.819142           0.823129           0.928571   \n",
       "1            0.840114           0.841398           0.929144   \n",
       "2            0.819142           0.824293           0.911105   \n",
       "3            0.840114           0.859435           0.911105   \n",
       "4            0.795918           0.859435           0.876368   \n",
       "5            0.821429           0.841398           0.911105   \n",
       "6            0.840114           0.841398           0.859025   \n",
       "7            0.857143           0.823129           0.911105   \n",
       "8            0.799537           0.821429           0.892857   \n",
       "9            0.875644           0.859435           0.911105   \n",
       "10           0.859435           0.840114           0.855556   \n",
       "11           0.875644           0.841398           0.911105   \n",
       "\n",
       "    split4_test_score  mean_test_score  std_test_score  rank_test_score  \n",
       "0            0.890114         0.867042        0.041456                9  \n",
       "1            0.946153         0.886213        0.044074                4  \n",
       "2            0.870721         0.856115        0.033519               11  \n",
       "3            0.964286         0.889839        0.043896                1  \n",
       "4            0.909115         0.855364        0.038095               12  \n",
       "5            0.927778         0.878913        0.040818                5  \n",
       "6            0.907658         0.864490        0.024964               10  \n",
       "7            0.926743         0.878475        0.037230                6  \n",
       "8            0.963889         0.870393        0.057757                8  \n",
       "9            0.927778         0.889643        0.025535                2  \n",
       "10           0.946153         0.875102        0.037150                7  \n",
       "11           0.945469         0.889574        0.035602                3  "
      ]
     },
     "execution_count": 22,
     "metadata": {},
     "output_type": "execute_result"
    }
   ],
   "source": [
    "table"
   ]
  },
  {
   "cell_type": "code",
   "execution_count": 23,
   "metadata": {},
   "outputs": [
    {
     "name": "stdout",
     "output_type": "stream",
     "text": [
      "Age:21\n",
      "salary:12222\n",
      "sex male 0 or 1:1\n"
     ]
    }
   ],
   "source": [
    "age_input=int(input(\"Age:\"))\n",
    "estimated_salary=int(input(\"salary:\"))\n",
    "gender_male_input=int(input(\"sex male 0 or 1:\"))\n"
   ]
  },
  {
   "cell_type": "code",
   "execution_count": 24,
   "metadata": {},
   "outputs": [
    {
     "name": "stdout",
     "output_type": "stream",
     "text": [
      "Future_Prediction[1]\n"
     ]
    }
   ],
   "source": [
    "Future_Prediction=grid.predict([[age_input,estimated_salary,gender_male_input]])\n",
    "print(\"Future_Prediction{}\".format(Future_Prediction))\n"
   ]
  },
  {
   "cell_type": "code",
   "execution_count": 25,
   "metadata": {},
   "outputs": [],
   "source": [
    "import pickle\n",
    "filename=\"finalized_model_Grid.sav\"\n",
    "pickle.dump(grid,open(filename,'wb'))"
   ]
  },
  {
   "cell_type": "code",
   "execution_count": 26,
   "metadata": {},
   "outputs": [],
   "source": [
    "loaded_model=pickle.load(open(\"finalized_model_Grid.sav\",'rb'))\n",
    "result=loaded_model.predict([[36,33000,0]])"
   ]
  },
  {
   "cell_type": "code",
   "execution_count": 28,
   "metadata": {},
   "outputs": [
    {
     "data": {
      "text/plain": [
       "array([1], dtype=int64)"
      ]
     },
     "execution_count": 28,
     "metadata": {},
     "output_type": "execute_result"
    }
   ],
   "source": [
    " result"
   ]
  }
 ],
 "metadata": {
  "kernelspec": {
   "display_name": "Python 3",
   "language": "python",
   "name": "python3"
  },
  "language_info": {
   "codemirror_mode": {
    "name": "ipython",
    "version": 3
   },
   "file_extension": ".py",
   "mimetype": "text/x-python",
   "name": "python",
   "nbconvert_exporter": "python",
   "pygments_lexer": "ipython3",
   "version": "3.7.4"
  }
 },
 "nbformat": 4,
 "nbformat_minor": 2
}
